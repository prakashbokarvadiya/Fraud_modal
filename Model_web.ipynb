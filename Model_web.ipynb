{
 "cells": [
  {
   "cell_type": "code",
   "execution_count": 1,
   "id": "4c927612-b704-4953-8a1e-d3ededbe40e0",
   "metadata": {},
   "outputs": [],
   "source": [
    "from flask import Flask, request, jsonify, render_template\n",
    "import joblib\n",
    "import pandas as pd\n",
    "\n",
    "app = Flask(__name__)\n",
    "\n",
    "# Load model & encoder\n",
    "model = joblib.load(\"fraud_model.pkl\")\n",
    "encoder = joblib.load(\"encoder.pkl\")\n",
    "\n",
    "@app.route(\"/\")\n",
    "def home():\n",
    "    return render_template(\"index.html\")\n",
    "\n",
    "@app.route(\"/predict\", methods=[\"POST\"])\n",
    "def predict():\n",
    "    data = request.form\n",
    "\n",
    "    df = pd.DataFrame([{\n",
    "        \"step\": int(data[\"step\"]),\n",
    "        \"amount\": float(data[\"amount\"]),\n",
    "        \"oldbalanceOrg\": float(data[\"oldbalanceOrg\"]),\n",
    "        \"newbalanceOrig\": float(data[\"newbalanceOrig\"]),\n",
    "        \"oldbalanceDest\": float(data[\"oldbalanceDest\"]),\n",
    "        \"newbalanceDest\": float(data[\"newbalanceDest\"]),\n",
    "        \"type\": data[\"type\"]\n",
    "    }])\n",
    "\n",
    "    # OneHotEncoding\n",
    "    df_encoded = encoder.transform(df[[\"type\"]]).toarray()\n",
    "    df_encoded = pd.DataFrame(df_encoded, columns=encoder.get_feature_names_out([\"type\"]))\n",
    "    df_final = pd.concat([df.drop(\"type\", axis=1), df_encoded], axis=1)\n",
    "\n",
    "    prediction = model.predict(df_final)[0]\n",
    "    result = \"🚨 Fraud Detected!\" if prediction == 1 else \"✅ Legitimate Transaction\"\n",
    "\n",
    "    return render_template(\"index.html\", prediction=result)\n"
   ]
  },
  {
   "cell_type": "code",
   "execution_count": null,
   "id": "f9935c7a-e1c4-4ad8-88a5-769f6838cb0a",
   "metadata": {},
   "outputs": [
    {
     "name": "stdout",
     "output_type": "stream",
     "text": [
      " * Serving Flask app '__main__'\n",
      " * Debug mode: on\n"
     ]
    },
    {
     "name": "stderr",
     "output_type": "stream",
     "text": [
      "WARNING: This is a development server. Do not use it in a production deployment. Use a production WSGI server instead.\n",
      " * Running on http://127.0.0.1:5000\n",
      "Press CTRL+C to quit\n",
      "127.0.0.1 - - [15/Sep/2025 15:46:52] \"GET / HTTP/1.1\" 200 -\n"
     ]
    }
   ],
   "source": [
    "if __name__ == \"__main__\":\n",
    "    # use_reloader=False prevents Jupyter SystemExit error\n",
    "    app.run(debug=True, use_reloader=False)"
   ]
  }
 ],
 "metadata": {
  "kernelspec": {
   "display_name": "Python 3 (ipykernel)",
   "language": "python",
   "name": "python3"
  },
  "language_info": {
   "codemirror_mode": {
    "name": "ipython",
    "version": 3
   },
   "file_extension": ".py",
   "mimetype": "text/x-python",
   "name": "python",
   "nbconvert_exporter": "python",
   "pygments_lexer": "ipython3",
   "version": "3.13.5"
  }
 },
 "nbformat": 4,
 "nbformat_minor": 5
}
